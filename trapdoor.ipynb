{
 "cells": [
  {
   "cell_type": "code",
   "execution_count": null,
   "source": [
    "from GraphModule.gcn import MyGCN\r\n",
    "from GraphModule.nettack import Nettack"
   ],
   "outputs": [],
   "metadata": {}
  },
  {
   "cell_type": "code",
   "execution_count": null,
   "source": [
    "import random\r\n",
    "import numpy as np\r\n",
    "import networkx as nx\r\n",
    "import matplotlib.pyplot as plt\r\n",
    "from scipy import sparse\r\n",
    "\r\n",
    "import torch\r\n",
    "import torch.optim as optim\r\n",
    "import torch.nn as nn\r\n",
    "import torch.nn.functional as F\r\n",
    "\r\n",
    "from deeprobust.graph.defense import GCN\r\n",
    "#from deeprobust.graph.targeted_attack import Nettack\r\n",
    "from deeprobust.graph.utils import accuracy\r\n",
    "from deeprobust.graph.data import Dataset"
   ],
   "outputs": [],
   "metadata": {}
  },
  {
   "cell_type": "code",
   "execution_count": null,
   "source": [
    "device = torch.device('cuda:0' if torch.cuda.is_available() else 'cpu')\r\n",
    "torch.manual_seed(0)\r\n",
    "random.seed(0)\r\n",
    "np.random.seed(0)\r\n",
    "\r\n",
    "def test_MyGCN(target_node, ori_adj, aug_adj, features, labels, train_idx, val_idx, test_idx, lamb=1, verbose=True):\r\n",
    "    ''' test on GCN '''\r\n",
    "    my_gcn = MyGCN(nfeat=features.shape[1], nhid=16, nclass=labels.max().item()+1, lamb=lamb, dropout=0.5, device=device)\r\n",
    "    my_gcn = my_gcn.to(device)\r\n",
    "\r\n",
    "    my_gcn.fit(features, ori_adj, aug_adj, labels, train_idx, val_idx, patience=30)\r\n",
    "\r\n",
    "    my_gcn.eval()\r\n",
    "    output = my_gcn.predict()\r\n",
    "    probs = torch.exp(output[[target_node]])[0]\r\n",
    "    acc_test = accuracy(output[test_idx], labels[test_idx])\r\n",
    "    if verbose:\r\n",
    "        print('Target node probs: {}'.format(probs.detach().cpu().numpy().round(decimals=5)))\r\n",
    "        print('Target node classification: {}'.format(probs.detach().cpu().numpy().argmax()))\r\n",
    "        print('Target node labels: {}'.format(labels[target_node]))\r\n",
    "        print(\"Overall test set results:\", \"accuracy= {:.4f}\".format(acc_test.item()))\r\n",
    "    #print(type(output[[target_node]].detach().cpu().numpy()))\r\n",
    "    return output[[target_node]][0].detach().cpu().numpy()\r\n",
    "\r\n",
    "#test_MyGCN(target_node, adj, arg_adj, features, labels, idx_train, idx_value, idx_test, lamb=1)"
   ],
   "outputs": [],
   "metadata": {}
  },
  {
   "cell_type": "code",
   "execution_count": null,
   "source": [
    "data = Dataset(root='Dataset', name='cora', seed=15)\r\n",
    "adj, features, labels = data.adj, data.features, data.labels\r\n",
    "idx_train, idx_value, idx_test = data.idx_train, data.idx_val, data.idx_test\r\n",
    "\r\n",
    "idx_unlabeled = np.union1d(idx_value, idx_test)\r\n",
    "idx_used = np.union1d(idx_train, idx_unlabeled)\r\n",
    "target_node = 0\r\n",
    "assert target_node in idx_unlabeled"
   ],
   "outputs": [],
   "metadata": {}
  },
  {
   "cell_type": "code",
   "execution_count": null,
   "source": [
    "#defense_nodes = [10, 20, 30, 40, 50, 60, 70, 80, 90, 100] #random choose\r\n",
    "#defense_nodes = [1525, 389, 1529, 1808, 1602, 442, 1115, 1141, 2019, 1006] # training set\r\n",
    "defense_nodes = [381, 894, 518, 43, 2082, 2332, 851, 216, 424] # cheat\r\n",
    "\r\n",
    "def argument_graph(target_node):  \r\n",
    "    arg_adj = adj.todense()\r\n",
    "    for node in defense_nodes[:5]:\r\n",
    "        arg_adj[target_node,node] = abs( 1 - arg_adj[target_node,node])\r\n",
    "    return sparse.csr_matrix(arg_adj)\r\n",
    "arg_adj = argument_graph(target_node)"
   ],
   "outputs": [],
   "metadata": {}
  },
  {
   "cell_type": "code",
   "execution_count": null,
   "source": [
    "def test_nettack_with_adj(target_node, test_adj, test_model):\r\n",
    "    nettack = Nettack(test_model, nnodes=adj.shape[0], attack_structure=True, attack_features=False, device=device)\r\n",
    "    nettack = nettack.to(device)\r\n",
    "    n_perturbations = 5\r\n",
    "\r\n",
    "    nettack.attack(features, test_adj, labels, target_node, n_perturbations,verbose=False)\r\n",
    "    return [ i[1] for i in nettack.structure_perturbations]"
   ],
   "outputs": [],
   "metadata": {}
  },
  {
   "cell_type": "code",
   "execution_count": null,
   "source": [
    "test_MyGCN(target_node, adj, arg_adj, features, labels, idx_train, idx_value, idx_test, lamb=1)"
   ],
   "outputs": [],
   "metadata": {}
  },
  {
   "cell_type": "code",
   "execution_count": null,
   "source": [
    "mygcn = MyGCN(nfeat=features.shape[1], nhid=16, nclass=labels.max().item()+1, lamb=0, dropout=0.5, device=device)\r\n",
    "mygcn.fit(features, adj, arg_adj, labels, idx_train, idx_value)"
   ],
   "outputs": [],
   "metadata": {}
  },
  {
   "cell_type": "code",
   "execution_count": null,
   "source": [
    "nettack = Nettack(mygcn, nnodes=adj.shape[0], attack_structure=True, attack_features=False, device=device)\r\n",
    "nettack = nettack.to(device)"
   ],
   "outputs": [],
   "metadata": {}
  },
  {
   "cell_type": "code",
   "execution_count": null,
   "source": [
    "degrees = adj.sum(0).A1\r\n",
    "n_perturbations = 5\r\n",
    "\r\n",
    "nettack.attack(features, adj, labels, target_node, n_perturbations, verbose=False)\r\n",
    "print([ i[1] for i in nettack.structure_perturbations ] )"
   ],
   "outputs": [],
   "metadata": {}
  },
  {
   "cell_type": "code",
   "execution_count": null,
   "source": [
    "modified_adj = nettack.modified_adj\r\n",
    "modified_features = nettack.modified_features"
   ],
   "outputs": [],
   "metadata": {}
  },
  {
   "cell_type": "code",
   "execution_count": null,
   "source": [
    "a = test_MyGCN(target_node, adj, arg_adj,  features, labels, idx_train, idx_value, idx_test)\r\n",
    "print()\r\n",
    "b = test_MyGCN(target_node, arg_adj, arg_adj,  features, labels, idx_train, idx_value, idx_test)\r\n",
    "print()\r\n",
    "c = test_MyGCN(target_node, modified_adj, arg_adj,  features, labels, idx_train, idx_value, idx_test)\r\n",
    "print()\r\n",
    "\r\n",
    "from sklearn.metrics.pairwise import cosine_similarity\r\n",
    "print(\"a b cosine similarity: {:5f}\".format(cosine_similarity([a], [b])[0,0]))\r\n",
    "print(\"a c cosine similarity: {:5f}\".format(cosine_similarity([a], [c])[0,0]))\r\n",
    "print(\"b c cosine similarity: {:5f}\".format(cosine_similarity([b], [c])[0,0]))"
   ],
   "outputs": [],
   "metadata": {}
  },
  {
   "cell_type": "code",
   "execution_count": null,
   "source": [
    "a1 = test_MyGCN(target_node, adj, arg_adj,  features, labels, idx_train, idx_value, idx_test, verbose=False)\r\n",
    "a2 = test_MyGCN(target_node, adj, arg_adj,  features, labels, idx_train, idx_value, idx_test, verbose=False)\r\n",
    "\r\n",
    "b1 = test_MyGCN(target_node, arg_adj, arg_adj,  features, labels, idx_train, idx_value, idx_test, verbose=False)\r\n",
    "b2 = test_MyGCN(target_node, arg_adj, arg_adj,  features, labels, idx_train, idx_value, idx_test, verbose=False)\r\n",
    "\r\n",
    "c1 = test_MyGCN(target_node, modified_adj, arg_adj,  features, labels, idx_train, idx_value, idx_test, verbose=False)\r\n",
    "c2 = test_MyGCN(target_node, modified_adj, arg_adj,  features, labels, idx_train, idx_value, idx_test, verbose=False)\r\n",
    "\r\n",
    "from sklearn.metrics.pairwise import cosine_similarity\r\n",
    "print(\"a a cosine similarity: {:5f}\".format(cosine_similarity([a1], [a2])[0,0]))\r\n",
    "print(\"b b cosine similarity: {:5f}\".format(cosine_similarity([b1], [b2])[0,0]))\r\n",
    "print(\"c c cosine similarity: {:5f}\".format(cosine_similarity([c1], [c2])[0,0]))"
   ],
   "outputs": [],
   "metadata": {}
  },
  {
   "cell_type": "code",
   "execution_count": null,
   "source": [],
   "outputs": [],
   "metadata": {}
  }
 ],
 "metadata": {
  "orig_nbformat": 4,
  "language_info": {
   "name": "python",
   "version": "3.6.13",
   "mimetype": "text/x-python",
   "codemirror_mode": {
    "name": "ipython",
    "version": 3
   },
   "pygments_lexer": "ipython3",
   "nbconvert_exporter": "python",
   "file_extension": ".py"
  },
  "kernelspec": {
   "name": "python3",
   "display_name": "Python 3.6.13 64-bit ('graph_trapdoor': conda)"
  },
  "interpreter": {
   "hash": "8955fb1a4537ed7d44e6a5d28ebe9d9627f9619f4df007d1746b0a9477d741ac"
  }
 },
 "nbformat": 4,
 "nbformat_minor": 2
}