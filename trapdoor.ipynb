{
 "cells": [
  {
   "cell_type": "code",
   "execution_count": 1,
   "source": [
    "from GraphModule.gcn import MyGCN\n",
    "from GraphModule.nettack import Nettack"
   ],
   "outputs": [],
   "metadata": {}
  },
  {
   "cell_type": "code",
   "execution_count": 2,
   "source": [
    "#import pandas\n",
    "import numpy as np\n",
    "import networkx as nx\n",
    "import matplotlib.pyplot as plt\n",
    "\n",
    "import torch\n",
    "import torch.optim as optim\n",
    "import torch.nn as nn\n",
    "import torch.nn.functional as F\n",
    "\n",
    "from deeprobust.graph.defense import GCN\n",
    "#from deeprobust.graph.targeted_attack import Nettack\n",
    "from deeprobust.graph.utils import accuracy\n",
    "from deeprobust.graph.data import Dataset"
   ],
   "outputs": [
    {
     "output_type": "stream",
     "name": "stdout",
     "text": [
      "No module named 'torch_geometric'\n",
      "No module named 'torch_geometric'\n"
     ]
    },
    {
     "output_type": "stream",
     "name": "stderr",
     "text": [
      "/home/sols/graph_venv/lib/python3.8/site-packages/deeprobust/graph/defense/__init__.py:14: UserWarning: Please install pytorch geometric if you would like to use the datasets from pytorch geometric. See details in https://pytorch-geometric.readthedocs.io/en/latest/notes/installation.html\n",
      "  warnings.warn(\"Please install pytorch geometric if you \" +\n",
      "/home/sols/graph_venv/lib/python3.8/site-packages/deeprobust/graph/data/__init__.py:9: UserWarning: Please install pytorch geometric if you would like to use the datasets from pytorch geometric. See details in https://pytorch-geometric.readthedocs.io/en/latest/notes/installation.html\n",
      "  warnings.warn(\"Please install pytorch geometric if you \" +\n"
     ]
    }
   ],
   "metadata": {}
  },
  {
   "cell_type": "code",
   "execution_count": 3,
   "source": [
    "device = torch.device('cuda:0' if torch.cuda.is_available() else 'cpu')\n",
    "def test_MyGCN(target_node, ori_adj, aug_adj, features, labels, train_idx, val_idx, test_idx):\n",
    "    ''' test on GCN '''\n",
    "    my_gcn = MyGCN(nfeat=features.shape[1], nhid=16, nclass=labels.max().item() + 1, dropout=0.5, device=device)\n",
    "\n",
    "    my_gcn = my_gcn.to(device)\n",
    "\n",
    "    my_gcn.fit(features, ori_adj, aug_adj, labels, train_idx, val_idx, patience=30)\n",
    "\n",
    "    my_gcn.eval()\n",
    "    output = my_gcn.predict()\n",
    "    probs = torch.exp(output[[target_node]])[0]\n",
    "    print('Target node probs: {}'.format(probs.detach().cpu().numpy()))\n",
    "    print('Target node classification: {}'.format(probs.detach().cpu().numpy().argmax()))\n",
    "    print('Target node labels: {}'.format(labels[target_node]))\n",
    "    acc_test = accuracy(output[test_idx], labels[test_idx])\n",
    "\n",
    "    print(\"Overall test set results:\", \"accuracy= {:.4f}\".format(acc_test.item()))\n",
    "    return acc_test.item()"
   ],
   "outputs": [],
   "metadata": {}
  },
  {
   "cell_type": "code",
   "execution_count": 4,
   "source": [
    "data = Dataset(root='/tmp/', name='cora', seed=15)\n",
    "adj, features, labels = data.adj, data.features, data.labels\n",
    "idx_train, idx_value, idx_test = data.idx_train, data.idx_val, data.idx_test\n",
    "\n",
    "idx_unlabeled = np.union1d(idx_value, idx_test)\n",
    "target_node = 0\n",
    "assert target_node in idx_unlabeled"
   ],
   "outputs": [
    {
     "output_type": "stream",
     "name": "stdout",
     "text": [
      "Loading cora dataset...\n",
      "Selecting 1 largest connected components\n"
     ]
    }
   ],
   "metadata": {}
  },
  {
   "cell_type": "code",
   "execution_count": 5,
   "source": [
    "test_MyGCN(target_node, adj, adj, features, labels, idx_train, idx_value, idx_test)"
   ],
   "outputs": [
    {
     "output_type": "stream",
     "name": "stdout",
     "text": [
      "Target node probs: [0.02927733 0.01206558 0.03448507 0.07881916 0.00389588 0.7676649\n",
      " 0.07379214]\n",
      "Target node classification: 5\n",
      "Target node labels: 5\n",
      "Overall test set results: accuracy= 0.8405\n"
     ]
    },
    {
     "output_type": "execute_result",
     "data": {
      "text/plain": [
       "0.8405432595573441"
      ]
     },
     "metadata": {},
     "execution_count": 5
    }
   ],
   "metadata": {}
  },
  {
   "cell_type": "code",
   "execution_count": 6,
   "source": [
    "surrogate = MyGCN(nfeat=features.shape[1], nhid=16, nclass=labels.max().item()+1, dropout=0.5, device=device)\n",
    "surrogate.fit(features, adj, adj, labels, idx_train, idx_value)"
   ],
   "outputs": [],
   "metadata": {}
  },
  {
   "cell_type": "code",
   "execution_count": 7,
   "source": [
    "model = Nettack(surrogate, nnodes=adj.shape[0], attack_structure=True, attack_features=True, device=device)\n",
    "model = model.to(device)"
   ],
   "outputs": [],
   "metadata": {}
  },
  {
   "cell_type": "code",
   "execution_count": 10,
   "source": [
    "degrees = adj.sum(0).A1\n",
    "n_perturbations = int(degrees[target_node])\n",
    "\n",
    "model.attack(features, adj, labels, target_node, n_perturbations, verbose=False)"
   ],
   "outputs": [],
   "metadata": {}
  },
  {
   "cell_type": "code",
   "execution_count": 11,
   "source": [
    "modified_adj = model.modified_adj\n",
    "modified_features = model.modified_features"
   ],
   "outputs": [],
   "metadata": {}
  },
  {
   "cell_type": "code",
   "execution_count": 13,
   "source": [
    "test_MyGCN(target_node, adj, modified_adj, modified_features, labels, idx_train, idx_value, idx_test)"
   ],
   "outputs": [
    {
     "output_type": "stream",
     "name": "stdout",
     "text": [
      "Target node probs: [0.04131257 0.00615348 0.0366347  0.0621196  0.03788184 0.6848579\n",
      " 0.13103986]\n",
      "Target node classification: 5\n",
      "Target node labels: 5\n",
      "Overall test set results: accuracy= 0.8325\n"
     ]
    },
    {
     "output_type": "execute_result",
     "data": {
      "text/plain": [
       "0.8324949698189135"
      ]
     },
     "metadata": {},
     "execution_count": 13
    }
   ],
   "metadata": {}
  },
  {
   "cell_type": "code",
   "execution_count": null,
   "source": [],
   "outputs": [],
   "metadata": {}
  }
 ],
 "metadata": {
  "orig_nbformat": 4,
  "language_info": {
   "name": "python",
   "version": "3.8.5",
   "mimetype": "text/x-python",
   "codemirror_mode": {
    "name": "ipython",
    "version": 3
   },
   "pygments_lexer": "ipython3",
   "nbconvert_exporter": "python",
   "file_extension": ".py"
  },
  "kernelspec": {
   "name": "python3",
   "display_name": "Python 3.8.5 64-bit ('graph_venv': venv)"
  },
  "interpreter": {
   "hash": "9d4f3a24c6850d91e6b9a480f48f4ae2302d0f96782257a591187a1aab7faeba"
  }
 },
 "nbformat": 4,
 "nbformat_minor": 2
}