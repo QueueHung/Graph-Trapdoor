{
 "cells": [
  {
   "cell_type": "code",
   "execution_count": null,
   "source": [
    "from GraphModule.gcn import MyGCN\r\n",
    "from GraphModule.nettack import Nettack"
   ],
   "outputs": [],
   "metadata": {}
  },
  {
   "cell_type": "code",
   "execution_count": null,
   "source": [
    "#import pandas\r\n",
    "import numpy as np\r\n",
    "import networkx as nx\r\n",
    "import matplotlib.pyplot as plt\r\n",
    "from scipy import sparse\r\n",
    "\r\n",
    "import torch\r\n",
    "import torch.optim as optim\r\n",
    "import torch.nn as nn\r\n",
    "import torch.nn.functional as F\r\n",
    "\r\n",
    "from deeprobust.graph.defense import GCN\r\n",
    "#from deeprobust.graph.targeted_attack import Nettack\r\n",
    "from deeprobust.graph.utils import accuracy\r\n",
    "from deeprobust.graph.data import Dataset"
   ],
   "outputs": [],
   "metadata": {}
  },
  {
   "cell_type": "code",
   "execution_count": null,
   "source": [
    "device = torch.device('cuda:0' if torch.cuda.is_available() else 'cpu')\r\n",
    "def test_MyGCN(target_node, ori_adj, aug_adj, features, labels, train_idx, val_idx, test_idx):\r\n",
    "    ''' test on GCN '''\r\n",
    "    my_gcn = MyGCN(nfeat=features.shape[1], nhid=16, nclass=labels.max().item() + 1, dropout=0.5, device=device)\r\n",
    "\r\n",
    "    my_gcn = my_gcn.to(device)\r\n",
    "\r\n",
    "    my_gcn.fit(features, ori_adj, aug_adj, labels, train_idx, val_idx, patience=30)\r\n",
    "\r\n",
    "    my_gcn.eval()\r\n",
    "    output = my_gcn.predict()\r\n",
    "    probs = torch.exp(output[[target_node]])[0]\r\n",
    "    print('Target node probs: {}'.format(probs.detach().cpu().numpy()))\r\n",
    "    print('Target node classification: {}'.format(probs.detach().cpu().numpy().argmax()))\r\n",
    "    print('Target node labels: {}'.format(labels[target_node]))\r\n",
    "    acc_test = accuracy(output[test_idx], labels[test_idx])\r\n",
    "\r\n",
    "    print(\"Overall test set results:\", \"accuracy= {:.4f}\".format(acc_test.item()))\r\n",
    "    return acc_test.item()"
   ],
   "outputs": [],
   "metadata": {}
  },
  {
   "cell_type": "code",
   "execution_count": null,
   "source": [
    "data = Dataset(root='Dataset', name='cora', seed=15)\r\n",
    "adj, features, labels = data.adj, data.features, data.labels\r\n",
    "idx_train, idx_value, idx_test = data.idx_train, data.idx_val, data.idx_test\r\n",
    "\r\n",
    "idx_unlabeled = np.union1d(idx_value, idx_test)\r\n",
    "idx_used = np.union1d(idx_train, idx_unlabeled)\r\n",
    "target_node = 0\r\n",
    "assert target_node in idx_unlabeled"
   ],
   "outputs": [],
   "metadata": {}
  },
  {
   "cell_type": "code",
   "execution_count": null,
   "source": [
    "#defense_nodes = [172, 945, 1702, 978, 2455, 1948, 2450, 1668]\r\n",
    "defense_nodes = [381, 894, 518, 43, 2082, 2332, 851, 216, 424]\r\n",
    "#print(idx_train)\r\n",
    "arg_adj = adj.todense()\r\n",
    "#print(arg_adj[target_node].shape)\r\n",
    "for node in defense_nodes[:5]:\r\n",
    "    arg_adj[target_node,node] = abs( 1 - arg_adj[target_node,node])\r\n",
    "\r\n",
    "arg_adj = sparse.csr_matrix(arg_adj)\r\n",
    "print(adj[0])\r\n",
    "print()\r\n",
    "print(arg_adj[0])"
   ],
   "outputs": [],
   "metadata": {}
  },
  {
   "cell_type": "code",
   "execution_count": null,
   "source": [
    "test_MyGCN(target_node, adj, adj, features, labels, idx_train, idx_value, idx_test)\r\n",
    "print()\r\n",
    "test_MyGCN(target_node, adj, arg_adj, features, labels, idx_train, idx_value, idx_test)"
   ],
   "outputs": [],
   "metadata": {}
  },
  {
   "cell_type": "code",
   "execution_count": null,
   "source": [
    "surrogate = MyGCN(nfeat=features.shape[1], nhid=16, nclass=labels.max().item()+1, dropout=0.5, device=device)\r\n",
    "surrogate.fit(features, adj, arg_adj, labels, idx_train, idx_value)"
   ],
   "outputs": [],
   "metadata": {}
  },
  {
   "cell_type": "code",
   "execution_count": null,
   "source": [
    "def test_nettack_with_adj(test_adj):\r\n",
    "    nettack = Nettack(surrogate, nnodes=adj.shape[0], attack_structure=True, attack_features=False, device=device)\r\n",
    "    nettack = nettack.to(device)\r\n",
    "    degrees = adj.sum(0).A1\r\n",
    "    n_perturbations = int(degrees[target_node])\r\n",
    "\r\n",
    "    nettack.attack(features, test_adj, labels, target_node, n_perturbations)\r\n",
    "test_nettack_with_adj(adj)\r\n",
    "print()\r\n",
    "test_nettack_with_adj(arg_adj)"
   ],
   "outputs": [],
   "metadata": {}
  },
  {
   "cell_type": "code",
   "execution_count": null,
   "source": [
    "nettack = Nettack(surrogate, nnodes=adj.shape[0], attack_structure=True, attack_features=False, device=device)\r\n",
    "nettack = nettack.to(device)"
   ],
   "outputs": [],
   "metadata": {}
  },
  {
   "cell_type": "code",
   "execution_count": null,
   "source": [
    "degrees = adj.sum(0).A1\r\n",
    "n_perturbations = int(degrees[target_node])\r\n",
    "\r\n",
    "nettack.attack(features, arg_adj, labels, target_node, n_perturbations)"
   ],
   "outputs": [],
   "metadata": {}
  },
  {
   "cell_type": "code",
   "execution_count": null,
   "source": [
    "modified_adj = nettack.modified_adj\r\n",
    "modified_features = nettack.modified_features"
   ],
   "outputs": [],
   "metadata": {}
  },
  {
   "cell_type": "code",
   "execution_count": null,
   "source": [
    "perb_list = []\r\n",
    "for i in idx_train[:50]:\r\n",
    "    nettack = Nettack(surrogate, nnodes=adj.shape[0], attack_structure=True, attack_features=False, device=device)\r\n",
    "    nettack.to(device)\r\n",
    "    nettack.attack(features, adj, labels, i, int(degrees[target_node]), verbose=False )\r\n",
    "    perb_list.append(nettack.structure_perturbations)"
   ],
   "outputs": [],
   "metadata": {}
  },
  {
   "cell_type": "code",
   "execution_count": null,
   "source": [
    "value_list = []\r\n",
    "for temp in perb_list:\r\n",
    "    for ele in temp:\r\n",
    "        value_list.append(ele[1])"
   ],
   "outputs": [],
   "metadata": {}
  },
  {
   "cell_type": "code",
   "execution_count": null,
   "source": [
    "from collections import Counter\r\n",
    "\r\n",
    "b = Counter(value_list).most_common()\r\n",
    "print(b)"
   ],
   "outputs": [],
   "metadata": {}
  },
  {
   "cell_type": "code",
   "execution_count": null,
   "source": [],
   "outputs": [],
   "metadata": {}
  }
 ],
 "metadata": {
  "orig_nbformat": 4,
  "language_info": {
   "name": "python",
   "version": "3.6.13",
   "mimetype": "text/x-python",
   "codemirror_mode": {
    "name": "ipython",
    "version": 3
   },
   "pygments_lexer": "ipython3",
   "nbconvert_exporter": "python",
   "file_extension": ".py"
  },
  "kernelspec": {
   "name": "python3",
   "display_name": "Python 3.6.13 64-bit ('graph_trapdoor': conda)"
  },
  "interpreter": {
   "hash": "8955fb1a4537ed7d44e6a5d28ebe9d9627f9619f4df007d1746b0a9477d741ac"
  }
 },
 "nbformat": 4,
 "nbformat_minor": 2
}